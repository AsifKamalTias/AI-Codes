{
 "cells": [
  {
   "cell_type": "markdown",
   "metadata": {},
   "source": [
    "### Problem: Maximie f(x) = x^2-11x+100 when x = 0 to 127"
   ]
  },
  {
   "cell_type": "markdown",
   "metadata": {},
   "source": [
    "Representation or ecoding solution:\n",
    "x can be represented using 7 bits binary number."
   ]
  },
  {
   "cell_type": "markdown",
   "metadata": {},
   "source": [
    "# Step 1: Initialize Population"
   ]
  },
  {
   "cell_type": "code",
   "execution_count": 2,
   "metadata": {
    "_cell_guid": "b1076dfc-b9ad-4769-8c92-a6c4dae69d19",
    "_uuid": "8f2839f25d086af736a60e9eeb907d3b93b6e0e5"
   },
   "outputs": [],
   "source": [
    "import random\n",
    "def initPopulation(b, n = 10): # n is the number of solutions, b is the length\n",
    "    p = [] # to store solution set/ initial population\n",
    "    for i in range(n):\n",
    "        s = [] # to store a solution as a list\n",
    "        for j in range(b):\n",
    "            s.append(random.choice([0,1]))    \n",
    "        # avoid zero\n",
    "        p.append(s)\n",
    "    return p"
   ]
  },
  {
   "cell_type": "code",
   "execution_count": 3,
   "metadata": {},
   "outputs": [
    {
     "data": {
      "text/plain": [
       "[[1, 1, 1, 0, 1, 1, 0],\n",
       " [0, 1, 1, 0, 1, 1, 0],\n",
       " [1, 1, 1, 1, 1, 0, 1],\n",
       " [1, 1, 1, 0, 0, 0, 0],\n",
       " [1, 0, 0, 0, 0, 0, 1],\n",
       " [1, 0, 1, 1, 1, 1, 1],\n",
       " [1, 1, 1, 0, 1, 0, 0],\n",
       " [1, 1, 1, 1, 0, 0, 0],\n",
       " [0, 0, 1, 1, 0, 1, 0],\n",
       " [1, 1, 0, 1, 0, 1, 0],\n",
       " [1, 1, 1, 0, 1, 1, 0],\n",
       " [0, 0, 0, 1, 0, 0, 0],\n",
       " [1, 1, 0, 0, 1, 1, 0],\n",
       " [1, 1, 0, 1, 1, 1, 0],\n",
       " [0, 0, 1, 0, 1, 0, 0],\n",
       " [1, 0, 1, 0, 1, 1, 1],\n",
       " [1, 0, 1, 0, 0, 0, 0],\n",
       " [1, 0, 1, 0, 0, 0, 0],\n",
       " [1, 0, 1, 0, 1, 0, 0],\n",
       " [0, 1, 1, 1, 0, 0, 1]]"
      ]
     },
     "execution_count": 3,
     "metadata": {},
     "output_type": "execute_result"
    }
   ],
   "source": [
    "population = initPopulation(7,20)\n",
    "population"
   ]
  },
  {
   "cell_type": "markdown",
   "metadata": {},
   "source": [
    "# Step 2: Reproduction or Parent Selection"
   ]
  },
  {
   "cell_type": "markdown",
   "metadata": {},
   "source": [
    "Fitness Calculation"
   ]
  },
  {
   "cell_type": "code",
   "execution_count": 4,
   "metadata": {},
   "outputs": [
    {
     "data": {
      "text/plain": [
       "[4, 3, 2, 1, 0]"
      ]
     },
     "execution_count": 4,
     "metadata": {},
     "output_type": "execute_result"
    }
   ],
   "source": [
    "[i for i in range(4,-1,-1)]"
   ]
  },
  {
   "cell_type": "code",
   "execution_count": 5,
   "metadata": {},
   "outputs": [],
   "source": [
    "def getFitness(p): # p is the whole population\n",
    "    f = [] # to store fitness values\n",
    "    for sol in p:\n",
    "        d = 0 # decimel value\n",
    "        b = len(sol)\n",
    "        for i in range(b-1,-1,-1): # binary to decimel\n",
    "            d = d + sol[i]*2**(b-1-i)\n",
    "        f.append(d**2 - 11*d + 100) # fitness function\n",
    "    return f"
   ]
  },
  {
   "cell_type": "code",
   "execution_count": 6,
   "metadata": {},
   "outputs": [
    {
     "data": {
      "text/plain": [
       "[12726,\n",
       " 2422,\n",
       " 14350,\n",
       " 11412,\n",
       " 3610,\n",
       " 8080,\n",
       " 12280,\n",
       " 13180,\n",
       " 490,\n",
       " 10170,\n",
       " 12726,\n",
       " 76,\n",
       " 9382,\n",
       " 10990,\n",
       " 280,\n",
       " 6712,\n",
       " 5620,\n",
       " 5620,\n",
       " 6232,\n",
       " 2722]"
      ]
     },
     "execution_count": 6,
     "metadata": {},
     "output_type": "execute_result"
    }
   ],
   "source": [
    "fitness = getFitness(population)\n",
    "fitness"
   ]
  },
  {
   "cell_type": "markdown",
   "metadata": {},
   "source": [
    "calculate probability and select parents"
   ]
  },
  {
   "cell_type": "code",
   "execution_count": 7,
   "metadata": {},
   "outputs": [],
   "source": [
    "def select_parent(n, pop): # probability, parent selection\n",
    "    # probability\n",
    "    fitness = getFitness(pop)\n",
    "    total_fitness = sum(fitness)\n",
    "    prob = [round(f/total_fitness,3) for f in fitness]\n",
    "    # parent selection\n",
    "    parents = []\n",
    "    for i in range(n):\n",
    "        # roullete wheel, generate a random number\n",
    "        r = random.choice(range(1,1001,1))/1000\n",
    "        lim = 0\n",
    "        # check bin number of r\n",
    "        for j in range(len(prob)):\n",
    "            lim = lim + prob[j]\n",
    "            if r <= lim :#checking the bin\n",
    "                print(j)\n",
    "                parents.append(pop[j])\n",
    "                break\n",
    "    return parents"
   ]
  },
  {
   "cell_type": "code",
   "execution_count": 8,
   "metadata": {},
   "outputs": [
    {
     "name": "stdout",
     "output_type": "stream",
     "text": [
      "18\n",
      "9\n",
      "7\n",
      "10\n",
      "6\n",
      "3\n",
      "9\n",
      "3\n"
     ]
    },
    {
     "data": {
      "text/plain": [
       "[[1, 0, 1, 0, 1, 0, 0],\n",
       " [1, 1, 0, 1, 0, 1, 0],\n",
       " [1, 1, 1, 1, 0, 0, 0],\n",
       " [1, 1, 1, 0, 1, 1, 0],\n",
       " [1, 1, 1, 0, 1, 0, 0],\n",
       " [1, 1, 1, 0, 0, 0, 0],\n",
       " [1, 1, 0, 1, 0, 1, 0],\n",
       " [1, 1, 1, 0, 0, 0, 0]]"
      ]
     },
     "execution_count": 8,
     "metadata": {},
     "output_type": "execute_result"
    }
   ],
   "source": [
    "parents = select_parent(8, population)\n",
    "parents"
   ]
  },
  {
   "cell_type": "markdown",
   "metadata": {},
   "source": [
    "# Step 3: Crossover"
   ]
  },
  {
   "cell_type": "code",
   "execution_count": 17,
   "metadata": {},
   "outputs": [],
   "source": [
    "#define a method crossover (input is parents set)\n",
    "def crossover(parent1, parent2, crossover_point):\n",
    "    offspirng1,offspirng2 = list(parent1),list(parent2)\n",
    "    #for loop to perform crossovers\n",
    "    for i in range(crossover_point,len(offspirng1)):\n",
    "        offspirng1[i],offspirng2[i] = offspirng2[i],offspirng1[i]\n",
    "    #perform crossover\n",
    "    offspirng1,offspirng2 = ''.join(offspirng1),''.join(offspirng2)\n",
    "    #return the offsprings\n",
    "    return offspirng1,offspirng2"
   ]
  },
  {
   "cell_type": "code",
   "execution_count": 18,
   "metadata": {},
   "outputs": [
    {
     "name": "stdout",
     "output_type": "stream",
     "text": [
      "Crossover Point: 3\n",
      "Offspring1: 10101745896587412365\n",
      "Offspring2: 01010000124532548756\n"
     ]
    }
   ],
   "source": [
    "parent1 = '10110000124532548756'    \n",
    "parent2 = '01001745896587412365'\n",
    "cp = random.choice(range(1,7))\n",
    "print('Crossover Point:',cp)\n",
    "offspring1,offspring2 = crossover(parent1,parent2,cp)\n",
    "print('Offspring1:',offspring1)        \n",
    "print('Offspring2:',offspring2)"
   ]
  },
  {
   "cell_type": "markdown",
   "metadata": {},
   "source": [
    "# Step 4: Select Survivor\n",
    "The selected survivors (solutions) will be added to population"
   ]
  },
  {
   "cell_type": "markdown",
   "metadata": {},
   "source": [
    "Select top 2 offspring based on fitness value and add them to population."
   ]
  },
  {
   "cell_type": "markdown",
   "metadata": {},
   "source": [
    "Repeat Step 2 to 4 for further iterations"
   ]
  },
  {
   "cell_type": "code",
   "execution_count": 19,
   "metadata": {},
   "outputs": [],
   "source": [
    "# define a method to select top offsprings (input offsprings, top)\n",
    "def topOffsprings(offspring1, offspring2, top=2):\n",
    "    offsprings = [offspring1, offspring2]\n",
    "    select_parent(top, offsprings)\n"
   ]
  },
  {
   "cell_type": "code",
   "execution_count": null,
   "metadata": {},
   "outputs": [],
   "source": []
  }
 ],
 "metadata": {
  "kernelspec": {
   "display_name": "Python 3",
   "language": "python",
   "name": "python3"
  },
  "language_info": {
   "codemirror_mode": {
    "name": "ipython",
    "version": 3
   },
   "file_extension": ".py",
   "mimetype": "text/x-python",
   "name": "python",
   "nbconvert_exporter": "python",
   "pygments_lexer": "ipython3",
   "version": "3.8.8"
  }
 },
 "nbformat": 4,
 "nbformat_minor": 4
}
