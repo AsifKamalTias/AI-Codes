{
 "cells": [
  {
   "cell_type": "markdown",
   "metadata": {},
   "source": [
    "# N Queen Attack Detection"
   ]
  },
  {
   "cell_type": "code",
   "execution_count": 48,
   "metadata": {},
   "outputs": [
    {
     "name": "stdout",
     "output_type": "stream",
     "text": [
      "[1, 6, 2, 9, 3, 1, 5, 8]\n",
      "[3, 2, 7, 5, 3, 1, 7, 2]\n"
     ]
    }
   ],
   "source": [
    "import random\n",
    "N = 8\n",
    "r = []\n",
    "c = []\n",
    "for i in range(1, N+1):\n",
    "    r.append(random.choice(range(1, N+1)))\n",
    "    c.append(random.choice(range(1, N+1),))\n",
    "\n",
    "#check repetition of position\n",
    "for m in range(0, len(r)):\n",
    "    for n in range(m+1, len(r)):\n",
    "        if(r[m]==r[n]):\n",
    "            r[n]= random.randint(1, N+1)\n",
    "    #print('Q{}: {},{}'.format(i,r[-1],c[-1]))\n",
    "print(r)\n",
    "print(c)"
   ]
  },
  {
   "cell_type": "code",
   "execution_count": 49,
   "metadata": {},
   "outputs": [],
   "source": [
    "# row attack\n",
    "def row_attack(r, c):\n",
    "    isRowAttacked = 0\n",
    "    for i in range(0,N):\n",
    "        for j in range(i+1,N):\n",
    "            if(r[i] == r[j]):\n",
    "                isRowAttacked = isRowAttacked+1\n",
    "    if(isRowAttacked>0):\n",
    "        return True\n",
    "    else:\n",
    "        return False"
   ]
  },
  {
   "cell_type": "code",
   "execution_count": 50,
   "metadata": {},
   "outputs": [
    {
     "data": {
      "text/plain": [
       "True"
      ]
     },
     "execution_count": 50,
     "metadata": {},
     "output_type": "execute_result"
    }
   ],
   "source": [
    "row_attack(r, c)"
   ]
  },
  {
   "cell_type": "code",
   "execution_count": 51,
   "metadata": {},
   "outputs": [],
   "source": [
    "#column attack\n",
    "def column_attack(r, c):\n",
    "    isColumnAttacked = 0\n",
    "    for i in range(0,N):\n",
    "        for j in range(i+1,N):\n",
    "            if(c[i] == c[j]):\n",
    "                isColumnAttacked = isColumnAttacked+1\n",
    "    if(isColumnAttacked>0):\n",
    "        return True\n",
    "    else:\n",
    "        return False"
   ]
  },
  {
   "cell_type": "code",
   "execution_count": 52,
   "metadata": {},
   "outputs": [
    {
     "data": {
      "text/plain": [
       "True"
      ]
     },
     "execution_count": 52,
     "metadata": {},
     "output_type": "execute_result"
    }
   ],
   "source": [
    "column_attack(r, c)"
   ]
  },
  {
   "cell_type": "code",
   "execution_count": 53,
   "metadata": {},
   "outputs": [],
   "source": [
    "# diagonal atack\n",
    "def diagonal_attack(r, c):\n",
    "    isDiagonalAttacked = 0\n",
    "    for i in range(0,N):\n",
    "        for j in range(i+1,N):\n",
    "            if(abs(c[i] - c[j]) == abs(r[i] - r[j])):\n",
    "                isDiagonalAttacked = isDiagonalAttacked+1\n",
    "    if(isDiagonalAttacked>0):\n",
    "        return True\n",
    "    else:\n",
    "        return False"
   ]
  },
  {
   "cell_type": "code",
   "execution_count": 54,
   "metadata": {},
   "outputs": [],
   "source": [
    "# implement a method to print a state is valid or not\n",
    "# input r and c (two lists)\n",
    "def is_valid(r, c):\n",
    "    if(row_attack(r, c)==True and column_attack(r, c)==True and diagonal_attack(r, c)==True):\n",
    "        return False\n",
    "    else:\n",
    "        return True\n"
   ]
  },
  {
   "cell_type": "code",
   "execution_count": 31,
   "metadata": {},
   "outputs": [
    {
     "data": {
      "text/plain": [
       "False"
      ]
     },
     "execution_count": 31,
     "metadata": {},
     "output_type": "execute_result"
    }
   ],
   "source": [
    "is_valid(r, c)"
   ]
  },
  {
   "cell_type": "code",
   "execution_count": null,
   "metadata": {},
   "outputs": [],
   "source": []
  }
 ],
 "metadata": {
  "kernelspec": {
   "display_name": "Python 3",
   "language": "python",
   "name": "python3"
  },
  "language_info": {
   "codemirror_mode": {
    "name": "ipython",
    "version": 3
   },
   "file_extension": ".py",
   "mimetype": "text/x-python",
   "name": "python",
   "nbconvert_exporter": "python",
   "pygments_lexer": "ipython3",
   "version": "3.8.8"
  }
 },
 "nbformat": 4,
 "nbformat_minor": 4
}
