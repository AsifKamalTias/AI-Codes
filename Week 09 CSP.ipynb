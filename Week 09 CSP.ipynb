{
 "cells": [
  {
   "cell_type": "code",
   "execution_count": 21,
   "metadata": {},
   "outputs": [],
   "source": [
    "# Define a new cgraph\n",
    "cgraph = {'Dhaka': ['Faridpur', 'Gazipur'], \n",
    "          'Barishal': ['Faridpur', 'Gazipur', 'Potuakhali'], \n",
    "          'Sylhet': [],\n",
    "          'Rangpur': ['Faridpur', 'Potuakhali'], \n",
    "          'Faridpur': ['Dhaka', 'Gazipur', 'Barishal', 'Potuakhali','Rangpur'], \n",
    "          'Gazipur': ['Barishal', 'Dhaka', 'Faridpur'], \n",
    "          'NSW': ['Barishal', 'Rangpur', 'Gazipur']}\n",
    "solved = {}\n",
    "rv = {'Dhaka': ['red', 'green', 'blue'], \n",
    "          'Faridpur': ['red', 'green', 'blue'], \n",
    "          'Gazipur' : ['red', 'green', 'blue'], \n",
    "          'Barishal' : ['red', 'green', 'blue'], \n",
    "          'Potuakhali' : ['red', 'green', 'blue'],\n",
    "          'Rangpur' : ['red', 'green', 'blue'], \n",
    "          'Sylhet' : ['red', 'green', 'blue']}"
   ]
  },
  {
   "cell_type": "markdown",
   "metadata": {},
   "source": [
    "## Highest Degree Node"
   ]
  },
  {
   "cell_type": "code",
   "execution_count": 22,
   "metadata": {},
   "outputs": [],
   "source": [
    "# write a method to get the highest degree node\n",
    "def get_hdnode(cg, solved):\n",
    "    mnode = ''\n",
    "    degree = -1\n",
    "    for k in cg.keys():\n",
    "        if len(cg[k])  > degree and k not in solved.keys():\n",
    "            #print(k)\n",
    "            degree = len(cg[k])\n",
    "            mnode = k\n",
    "    return mnode"
   ]
  },
  {
   "cell_type": "code",
   "execution_count": 23,
   "metadata": {},
   "outputs": [
    {
     "data": {
      "text/plain": [
       "'Faridpur'"
      ]
     },
     "execution_count": 23,
     "metadata": {},
     "output_type": "execute_result"
    }
   ],
   "source": [
    "get_hdnode(cgraph, solved)"
   ]
  },
  {
   "cell_type": "code",
   "execution_count": 24,
   "metadata": {},
   "outputs": [],
   "source": [
    "import random\n",
    "def get_color(node, rv, cg):\n",
    "    # CODE\n",
    "    # check rv[node] is empty or not\n",
    "    if(len(node) == 0):\n",
    "        # return 'no color'\n",
    "        return 'no color'\n",
    "    else:\n",
    "        if(node in rv):\n",
    "            color = random.choice(rv[node])\n",
    "            rv.pop(node)\n",
    "            # update color options\n",
    "            adjList = cg[node]\n",
    "            for adj in adjList:\n",
    "                if(adj in rv.keys()):\n",
    "                    rv[adj].remove(color)\n",
    "            #print(adjList)\n",
    "            return color\n",
    "        else:\n",
    "            return 'no color'    "
   ]
  },
  {
   "cell_type": "code",
   "execution_count": 26,
   "metadata": {},
   "outputs": [
    {
     "name": "stdout",
     "output_type": "stream",
     "text": [
      "Assignment Complete? :  True\n",
      "Remaining Values :  {'Dhaka': ['green', 'blue'], 'Gazipur': ['green', 'blue'], 'Barishal': ['green', 'blue'], 'Potuakhali': ['green', 'blue'], 'Rangpur': ['green', 'blue'], 'Sylhet': ['red', 'green', 'blue']}\n",
      "Assigned Values :  {'Faridpur': 'red'}\n",
      "Assignment Complete? :  True\n",
      "Remaining Values :  {'Dhaka': ['green', 'blue'], 'Gazipur': ['blue'], 'Potuakhali': ['blue'], 'Rangpur': ['green', 'blue'], 'Sylhet': ['red', 'green', 'blue']}\n",
      "Assigned Values :  {'Faridpur': 'red', 'Barishal': 'green'}\n",
      "Assignment Complete? :  True\n",
      "Remaining Values :  {'Dhaka': ['green'], 'Potuakhali': ['blue'], 'Rangpur': ['green', 'blue'], 'Sylhet': ['red', 'green', 'blue']}\n",
      "Assigned Values :  {'Faridpur': 'red', 'Barishal': 'green', 'Gazipur': 'blue'}\n",
      "Assignment Complete? :  False\n",
      "failure\n",
      "Assignment Complete? :  False\n",
      "failure\n",
      "Assignment Complete? :  False\n",
      "failure\n",
      "Assignment Complete? :  False\n",
      "failure\n"
     ]
    }
   ],
   "source": [
    "assigned = {}\n",
    "\n",
    "remainingValues = {'Dhaka': ['red', 'green', 'blue'], \n",
    "          'Faridpur': ['red', 'green', 'blue'], \n",
    "          'Gazipur' : ['red', 'green', 'blue'], \n",
    "          'Barishal' : ['red', 'green', 'blue'], \n",
    "          'Potuakhali' : ['red', 'green', 'blue'],\n",
    "          'Rangpur' : ['red', 'green', 'blue'], \n",
    "          'Sylhet' : ['red', 'green', 'blue']}\n",
    "\n",
    "for i in range(len(cgraph)):\n",
    "    # assign color to the highest degree node\n",
    "    hdNode = get_hdnode(cgraph, assigned)\n",
    "    # CODE\n",
    "    # check condition if all nodes are assigned color [hdNode is '']\n",
    "    # print assignments complete\n",
    "    print('Assignment Complete? : ', hdNode in remainingValues)\n",
    "    color = get_color(hdNode, remainingValues, cgraph)\n",
    "    # CODE\n",
    "    # check if 'no color' is returned\n",
    "    if(color == 'no color'):\n",
    "        # print failure\n",
    "        print ('failure')\n",
    "    else:\n",
    "        assigned[hdNode]= color\n",
    "        #print(remainingValues)\n",
    "        print('Remaining Values : ', remainingValues)\n",
    "        print('Assigned : ', assigned)"
   ]
  },
  {
   "cell_type": "markdown",
   "metadata": {},
   "source": [
    "## Minimum Remaining Value"
   ]
  },
  {
   "cell_type": "code",
   "execution_count": 28,
   "metadata": {},
   "outputs": [],
   "source": [
    "# define a method to select a node by MRV\n",
    "def get_MRVnode(rv):\n",
    "    # CODE\n",
    "    #implement the logic on remainingValues list\n",
    "    length = len(rv)\n",
    "    node = ''\n",
    "    for i in rv.keys():\n",
    "        if(len(rv[i])<length):\n",
    "            length = len(rv[i])\n",
    "            node = i\n",
    "    return node"
   ]
  },
  {
   "cell_type": "code",
   "execution_count": 29,
   "metadata": {},
   "outputs": [
    {
     "data": {
      "text/plain": [
       "'Dhaka'"
      ]
     },
     "execution_count": 29,
     "metadata": {},
     "output_type": "execute_result"
    }
   ],
   "source": [
    "get_MRVnode(rv)"
   ]
  },
  {
   "cell_type": "code",
   "execution_count": 36,
   "metadata": {},
   "outputs": [
    {
     "name": "stdout",
     "output_type": "stream",
     "text": [
      "Assignment Complete? :  True\n",
      "Remaining Values {'Faridpur': ['red', 'green'], 'Gazipur': ['red', 'green'], 'Barishal': ['red', 'green', 'blue'], 'Potuakhali': ['red', 'green', 'blue'], 'Rangpur': ['red', 'green', 'blue'], 'Sylhet': ['red', 'green', 'blue']}\n",
      "{'Barishal': 'blue'}\n",
      "Assignment Complete? :  True\n",
      "Remaining Values {'Gazipur': ['green'], 'Barishal': ['green', 'blue'], 'Potuakhali': ['green', 'blue'], 'Rangpur': ['green', 'blue'], 'Sylhet': ['red', 'green', 'blue']}\n",
      "{'Barishal': 'red'}\n",
      "Assignment Complete? :  True\n",
      "Remaining Values {'Barishal': ['blue'], 'Potuakhali': ['green', 'blue'], 'Rangpur': ['green', 'blue'], 'Sylhet': ['red', 'green', 'blue']}\n",
      "{'Barishal': 'green'}\n",
      "Assignment Complete? :  True\n",
      "Remaining Values {'Potuakhali': ['green'], 'Rangpur': ['green', 'blue'], 'Sylhet': ['red', 'green', 'blue']}\n",
      "{'Barishal': 'blue'}\n",
      "Assignment Complete? :  True\n"
     ]
    },
    {
     "ename": "KeyError",
     "evalue": "'Potuakhali'",
     "output_type": "error",
     "traceback": [
      "\u001b[1;31m---------------------------------------------------------------------------\u001b[0m",
      "\u001b[1;31mKeyError\u001b[0m                                  Traceback (most recent call last)",
      "\u001b[1;32m<ipython-input-36-323c03ff6e2c>\u001b[0m in \u001b[0;36m<module>\u001b[1;34m\u001b[0m\n\u001b[0;32m     16\u001b[0m     \u001b[1;31m# print assignments complete\u001b[0m\u001b[1;33m\u001b[0m\u001b[1;33m\u001b[0m\u001b[1;33m\u001b[0m\u001b[0m\n\u001b[0;32m     17\u001b[0m     \u001b[0mprint\u001b[0m\u001b[1;33m(\u001b[0m\u001b[1;34m'Assignment Complete? : '\u001b[0m\u001b[1;33m,\u001b[0m \u001b[0mmrvNode\u001b[0m \u001b[1;32min\u001b[0m \u001b[0mremainingValues\u001b[0m\u001b[1;33m)\u001b[0m\u001b[1;33m\u001b[0m\u001b[1;33m\u001b[0m\u001b[0m\n\u001b[1;32m---> 18\u001b[1;33m     \u001b[0mcolor\u001b[0m \u001b[1;33m=\u001b[0m \u001b[0mget_color\u001b[0m\u001b[1;33m(\u001b[0m\u001b[0mmrvNode\u001b[0m\u001b[1;33m,\u001b[0m \u001b[0mremainingValues\u001b[0m\u001b[1;33m,\u001b[0m \u001b[0mcgraph\u001b[0m\u001b[1;33m)\u001b[0m\u001b[1;33m\u001b[0m\u001b[1;33m\u001b[0m\u001b[0m\n\u001b[0m\u001b[0;32m     19\u001b[0m     \u001b[1;31m# CODE\u001b[0m\u001b[1;33m\u001b[0m\u001b[1;33m\u001b[0m\u001b[1;33m\u001b[0m\u001b[0m\n\u001b[0;32m     20\u001b[0m     \u001b[1;31m# check if 'no color' is returned\u001b[0m\u001b[1;33m\u001b[0m\u001b[1;33m\u001b[0m\u001b[1;33m\u001b[0m\u001b[0m\n",
      "\u001b[1;32m<ipython-input-24-ef1011111da7>\u001b[0m in \u001b[0;36mget_color\u001b[1;34m(node, rv, cg)\u001b[0m\n\u001b[0;32m     11\u001b[0m             \u001b[0mrv\u001b[0m\u001b[1;33m.\u001b[0m\u001b[0mpop\u001b[0m\u001b[1;33m(\u001b[0m\u001b[0mnode\u001b[0m\u001b[1;33m)\u001b[0m\u001b[1;33m\u001b[0m\u001b[1;33m\u001b[0m\u001b[0m\n\u001b[0;32m     12\u001b[0m             \u001b[1;31m# update color options\u001b[0m\u001b[1;33m\u001b[0m\u001b[1;33m\u001b[0m\u001b[1;33m\u001b[0m\u001b[0m\n\u001b[1;32m---> 13\u001b[1;33m             \u001b[0madjList\u001b[0m \u001b[1;33m=\u001b[0m \u001b[0mcg\u001b[0m\u001b[1;33m[\u001b[0m\u001b[0mnode\u001b[0m\u001b[1;33m]\u001b[0m\u001b[1;33m\u001b[0m\u001b[1;33m\u001b[0m\u001b[0m\n\u001b[0m\u001b[0;32m     14\u001b[0m             \u001b[1;32mfor\u001b[0m \u001b[0madj\u001b[0m \u001b[1;32min\u001b[0m \u001b[0madjList\u001b[0m\u001b[1;33m:\u001b[0m\u001b[1;33m\u001b[0m\u001b[1;33m\u001b[0m\u001b[0m\n\u001b[0;32m     15\u001b[0m                 \u001b[1;32mif\u001b[0m\u001b[1;33m(\u001b[0m\u001b[0madj\u001b[0m \u001b[1;32min\u001b[0m \u001b[0mrv\u001b[0m\u001b[1;33m.\u001b[0m\u001b[0mkeys\u001b[0m\u001b[1;33m(\u001b[0m\u001b[1;33m)\u001b[0m\u001b[1;33m)\u001b[0m\u001b[1;33m:\u001b[0m\u001b[1;33m\u001b[0m\u001b[1;33m\u001b[0m\u001b[0m\n",
      "\u001b[1;31mKeyError\u001b[0m: 'Potuakhali'"
     ]
    }
   ],
   "source": [
    "assigned = {}\n",
    "\n",
    "remainingValues = {'Dhaka': ['red', 'green', 'blue'], \n",
    "          'Faridpur': ['red', 'green', 'blue'], \n",
    "          'Gazipur' : ['red', 'green', 'blue'], \n",
    "          'Barishal' : ['red', 'green', 'blue'], \n",
    "          'Potuakhali' : ['red', 'green', 'blue'],\n",
    "          'Rangpur' : ['red', 'green', 'blue'], \n",
    "          'Sylhet' : ['red', 'green', 'blue']}\n",
    "\n",
    "for i in range(len(cgraph)):\n",
    "    # assign color to the highest degree node\n",
    "    mrvNode = get_MRVnode(remainingValues)\n",
    "    # CODE\n",
    "    # check condition if all nodes are assigned color [hdNode is '']\n",
    "    # print assignments complete\n",
    "    print('Assignment Complete? : ', mrvNode in remainingValues)\n",
    "    color = get_color(mrvNode, remainingValues, cgraph)\n",
    "    # CODE\n",
    "    # check if 'no color' is returned\n",
    "    if(color == 'no color'):\n",
    "        print('failure')\n",
    "    else:\n",
    "        assigned[hdNode]= color\n",
    "        print('Remaining Values', remainingValues)\n",
    "        print(assigned)\n",
    "    "
   ]
  },
  {
   "cell_type": "code",
   "execution_count": null,
   "metadata": {},
   "outputs": [],
   "source": []
  },
  {
   "cell_type": "code",
   "execution_count": null,
   "metadata": {},
   "outputs": [],
   "source": []
  }
 ],
 "metadata": {
  "kernelspec": {
   "display_name": "Python 3",
   "language": "python",
   "name": "python3"
  },
  "language_info": {
   "codemirror_mode": {
    "name": "ipython",
    "version": 3
   },
   "file_extension": ".py",
   "mimetype": "text/x-python",
   "name": "python",
   "nbconvert_exporter": "python",
   "pygments_lexer": "ipython3",
   "version": "3.8.8"
  }
 },
 "nbformat": 4,
 "nbformat_minor": 4
}
