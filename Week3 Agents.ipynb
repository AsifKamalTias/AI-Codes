{
 "cells": [
  {
   "cell_type": "markdown",
   "metadata": {},
   "source": [
    "# Table driven agent"
   ]
  },
  {
   "cell_type": "markdown",
   "metadata": {},
   "source": [
    "Vaccum Cleaning Agent with locations A and B"
   ]
  },
  {
   "cell_type": "code",
   "execution_count": 1,
   "metadata": {},
   "outputs": [
    {
     "name": "stdout",
     "output_type": "stream",
     "text": [
      "Perception Received: ('Inside', 'Absent')\n",
      "Action Performed: Left\n",
      "Get Perception (yes/no): yes\n",
      "Perception Received: ('Outside', 'Absent')\n",
      "Action Performed: Right\n",
      "Get Perception (yes/no): yes\n",
      "Perception Received: ('Inside', 'Absent')\n",
      "Action Performed: Left\n",
      "Get Perception (yes/no): yes\n",
      "Perception Received: ('Outside', 'Present')\n",
      "Action Performed: Open\n",
      "Get Perception (yes/no): yes\n",
      "Perception Received: ('Outside', 'Present')\n",
      "Action Performed: Open\n",
      "Get Perception (yes/no): yes\n",
      "Perception Received: ('Outside', 'Present')\n",
      "Action Performed: Open\n",
      "Get Perception (yes/no): yes\n",
      "Perception Received: ('Outside', 'Present')\n",
      "Action Performed: Open\n",
      "Get Perception (yes/no): no\n"
     ]
    }
   ],
   "source": [
    "#List the actions: Open, Close.\n",
    "#List the sensors: Location Sensors, Condition Sensors.\n",
    "#Agent function: ('Outside', 'Present')-> 'Open', ('Outside', 'Absent')-> 'Right', ('Inside', 'Present')-> 'Open',  ('Inside', 'Absent')-> 'Left'\n",
    "table={('Outside','Present'):'Open',\n",
    "       ('Outside','Absent'):'Right',\n",
    "       ('Inside','Present'):'Open',\n",
    "       ('Inside','Absent'):'Left'}\n",
    "\n",
    "percepts=[]  # to store percet sequence  \n",
    "def table_driven_agent(percept):\n",
    "    print('Perception Received: '+ str(percept))\n",
    "    percepts.append(percept) # updating percept history\n",
    "    action = lookup(percept,table) # searching for action\n",
    "    return action\n",
    "\n",
    "def lookup(percept,table):\n",
    "    return table[percept]\n",
    "\n",
    "# lets simulate the agent\n",
    "import random\n",
    "Location = random.choice(['Outside','Inside'])\n",
    "Condition = random.choice(['Present','Absent'])\n",
    "\n",
    "while True: # to perceieve environment repeatedly\n",
    "    action = table_driven_agent((Location, Condition))\n",
    "    print('Action Performed: '+ action)\n",
    "    cmd = input('Get Perception (yes/no): ')\n",
    "    if(cmd == 'no' or cmd != 'yes'): break\n",
    "    if action == 'Right':\n",
    "        Location = 'Inside'\n",
    "        Condition = random.choice(['Present','Absent'])\n",
    "    elif action == 'Left':\n",
    "        Location = 'Outside'\n",
    "        Condition = random.choice(['Present','Absent'])\n",
    "    else:\n",
    "        Condition = 'Present'   "
   ]
  },
  {
   "cell_type": "markdown",
   "metadata": {},
   "source": [
    "# Simple reflex agent"
   ]
  },
  {
   "cell_type": "code",
   "execution_count": null,
   "metadata": {},
   "outputs": [
    {
     "name": "stdout",
     "output_type": "stream",
     "text": [
      "Perception Received: ('Outside', 'Present')\n",
      "Action Performed: Open\n",
      "Get Perception (yes/no): yes\n",
      "Perception Received: ('Outside', 'Present')\n",
      "Action Performed: Open\n",
      "Get Perception (yes/no): yes\n",
      "Perception Received: ('Outside', 'Present')\n",
      "Action Performed: Open\n",
      "Get Perception (yes/no): yes\n",
      "Perception Received: ('Outside', 'Present')\n",
      "Action Performed: Open\n"
     ]
    }
   ],
   "source": [
    "def simple_reflex_agent(percept):\n",
    "    print('Perception Received: '+ str(percept))\n",
    "    location = percept[0]\n",
    "    status = percept[1]\n",
    "    if status =='Present':\n",
    "        action = 'Open'\n",
    "    elif location == 'Inside':\n",
    "        action = 'Left'\n",
    "    elif location =='Outside':\n",
    "        action = 'Right'\n",
    "    return action\n",
    "\n",
    "import random\n",
    "Location = random.choice(['Outside','Inside'])\n",
    "Condition = random.choice(['Present','Absent'])\n",
    "\n",
    "while True: # to perceieve environment repeatedly\n",
    "    action = table_driven_agent((Location, Condition))\n",
    "    print('Action Performed: '+ action)\n",
    "    cmd = input('Get Perception (yes/no): ')\n",
    "    if(cmd == 'no' or cmd != 'yes'): break\n",
    "    if action == 'Right':\n",
    "        Location = 'Inside'\n",
    "        Condition = random.choice(['Present','Absent'])\n",
    "    elif action == 'Left':\n",
    "        Location = 'Outside'\n",
    "        Condition = random.choice(['Present','Absent'])\n",
    "    else:\n",
    "        Condition = 'Present'\n",
    "\n",
    "    "
   ]
  },
  {
   "cell_type": "markdown",
   "metadata": {},
   "source": [
    "# Model based agent"
   ]
  },
  {
   "cell_type": "code",
   "execution_count": null,
   "metadata": {},
   "outputs": [],
   "source": [
    "model = {'Outside':'Unknown', 'Inside':'Unknown'}\n",
    "world_state = 'Present'\n",
    "action = 'Unknown'\n",
    "\n",
    "def update_state(action, percept, model):\n",
    "    location = percept[0]\n",
    "    status = percept[1]\n",
    "    model[location] = status #udate the model based on current perception\n",
    "    \n",
    "    global world_state\n",
    "    if action == 'Open':\n",
    "        model[location]='Present'\n",
    "    if model['Outside']=='Absent' and model['Inside']=='Absent': # model checking\n",
    "        world_state = 'Absent'\n",
    "    else:\n",
    "        world_state = 'Present'\n",
    "    return world_state\n",
    "        \n",
    "\n",
    "def model_based_reflex_agent(percept):\n",
    "    location = percept[0]\n",
    "    status = percept[1]\n",
    "    \n",
    "    global world_state,action,model\n",
    "    \n",
    "    if world_state == 'Absent':\n",
    "        action = 'Close'\n",
    "        return action\n",
    "    elif status == 'Present':\n",
    "        action = 'Open'\n",
    "    elif location == 'Outside':\n",
    "        action = 'Right'\n",
    "    elif location == 'Inside':\n",
    "        action = 'Left'\n",
    "    world_state = update_state(action, percept, model)\n",
    "    print('Perception: '+str(percept)) \n",
    "    print('Action Performed: '+ action)    \n",
    "    print('Model: '+str(model))   \n",
    "    print('State: '+str(world_state))    \n",
    "    return action\n",
    "\n",
    "\n",
    "import random\n",
    "Location = random.choice(['Outside','Inside'])\n",
    "Condition= random.choice(['Present','Absent'])\n",
    "\n",
    "while True:\n",
    "    print('*****')\n",
    "    action = model_based_reflex_agent((Location,Condition))\n",
    "    if action == 'Right':\n",
    "        Location = 'Inside'\n",
    "        Condition = random.choice(['Present','Absent'])\n",
    "    elif action == 'Left':\n",
    "        Location = 'Outside'\n",
    "        Condition = random.choice(['Present','Absent'])\n",
    "    elif action == 'Open':\n",
    "        Condition = 'Present'\n",
    "    elif action == 'Close':\n",
    "        cmd = input('Stopped. Do restart? (yes/no): ')\n",
    "        if(cmd == 'no' or cmd != 'yes'): break\n",
    "        Location = random.choice(['Outside','Inside'])\n",
    "        Condition = random.choice(['Present','Absent'])\n",
    "        model = {'Outside':'Unknown', 'B':'Inside'}\n",
    "        world_state = 'Present'\n",
    "        action = 'Unknown'\n",
    "        \n",
    "\n",
    "    "
   ]
  },
  {
   "cell_type": "markdown",
   "metadata": {},
   "source": [
    "## Task"
   ]
  },
  {
   "cell_type": "markdown",
   "metadata": {},
   "source": [
    "Implement diffierent types of agent implementation to do certain task of your choice. \n",
    "1. Table Driven Agent\n",
    "2. Simple Reflex Agent\n",
    "3. Model Based Agent"
   ]
  },
  {
   "attachments": {},
   "cell_type": "markdown",
   "metadata": {},
   "source": [
    "PEAS desription\n",
    "\n",
    "Agent Description:\n",
    "The aim of the agent opening door. When someone come infront of the door, it will open the door. It will make human life easy.\n",
    "\n",
    "List the actions: Open, Left and Right.\n",
    "List the sensors: Location Sensors, Condition Sensors.\n",
    "Agent function: ('Outside', 'Present')-> 'Open', ('Outside', 'Absent')-> 'Right', ('Inside', 'Present')-> 'Open',  ('Inside', 'Absent')-> 'Left'"
   ]
  },
  {
   "cell_type": "code",
   "execution_count": null,
   "metadata": {},
   "outputs": [],
   "source": []
  }
 ],
 "metadata": {
  "kernelspec": {
   "display_name": "Python 3",
   "language": "python",
   "name": "python3"
  },
  "language_info": {
   "codemirror_mode": {
    "name": "ipython",
    "version": 3
   },
   "file_extension": ".py",
   "mimetype": "text/x-python",
   "name": "python",
   "nbconvert_exporter": "python",
   "pygments_lexer": "ipython3",
   "version": "3.8.8"
  }
 },
 "nbformat": 4,
 "nbformat_minor": 4
}
